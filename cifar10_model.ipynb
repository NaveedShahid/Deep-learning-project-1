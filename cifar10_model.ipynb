{
  "nbformat": 4,
  "nbformat_minor": 0,
  "metadata": {
    "colab": {
      "name": "cifar10 model",
      "version": "0.3.2",
      "provenance": [],
      "collapsed_sections": []
    },
    "kernelspec": {
      "name": "python3",
      "display_name": "Python 3"
    },
    "accelerator": "GPU"
  },
  "cells": [
    {
      "cell_type": "code",
      "metadata": {
        "colab_type": "code",
        "id": "mSknCyAWSH3l",
        "colab": {}
      },
      "source": [
        "#cifar 10 data set\n",
        "import keras\n",
        "from keras.models import Sequential\n",
        "from keras.layers import Dense, Conv2D, MaxPooling2D, Dropout, Flatten,BatchNormalization,GaussianNoise\n",
        "\n",
        "from keras.preprocessing.image import ImageDataGenerator\n",
        "from keras import regularizers, optimizers\n",
        "\n",
        "import keras.backend as K\n",
        "from keras.optimizers import rmsprop\n",
        "\n",
        "from keras.utils import np_utils\n",
        "from keras.datasets import cifar10\n",
        "import numpy as np\n",
        "\n",
        "import matplotlib.pyplot as plt\n",
        "\n",
        "from keras import backend as K\n",
        "K.set_image_dim_ordering('tf')\n",
        "\n",
        "\n",
        "\n"
      ],
      "execution_count": 0,
      "outputs": []
    },
    {
      "cell_type": "code",
      "metadata": {
        "id": "hmdmbD69Sgwv",
        "colab_type": "code",
        "colab": {}
      },
      "source": [
        "(x_train, y_train), (x_test, y_test) = cifar10.load_data()\n",
        "x_train = x_train.astype('float32')"
      ],
      "execution_count": 0,
      "outputs": []
    },
    {
      "cell_type": "code",
      "metadata": {
        "colab_type": "code",
        "outputId": "853a9001-14ef-474d-ddf0-1fc0e06ce37f",
        "id": "G21VpYLRSHHm",
        "colab": {
          "base_uri": "https://localhost:8080/",
          "height": 35
        }
      },
      "source": [
        "mean = np.mean(x_train,axis=(0,1,2,3))\n",
        "std = np.std(x_train,axis=(0,1,2,3))\n",
        "x_train = (x_train-mean)/(std+1e-7)\n",
        "x_test = (x_test-mean)/(std+1e-7)\n",
        "std"
      ],
      "execution_count": 38,
      "outputs": [
        {
          "output_type": "execute_result",
          "data": {
            "text/plain": [
              "64.150024"
            ]
          },
          "metadata": {
            "tags": []
          },
          "execution_count": 38
        }
      ]
    },
    {
      "cell_type": "code",
      "metadata": {
        "colab_type": "code",
        "id": "1cCn3mWzJR7A",
        "colab": {}
      },
      "source": [
        "nClasses = 10\n",
        "y_train = np_utils.to_categorical(y_train,nClasses)\n",
        "y_test = np_utils.to_categorical(y_test,nClasses)"
      ],
      "execution_count": 0,
      "outputs": []
    },
    {
      "cell_type": "code",
      "metadata": {
        "colab_type": "code",
        "outputId": "bb56fd95-164d-4eff-896f-bd105c5a01cf",
        "id": "wY80Ru4jJR7H",
        "colab": {
          "base_uri": "https://localhost:8080/",
          "height": 54
        }
      },
      "source": [
        "print(x_train.shape)\n",
        "print(y_train.shape)"
      ],
      "execution_count": 40,
      "outputs": [
        {
          "output_type": "stream",
          "text": [
            "(50000, 32, 32, 3)\n",
            "(50000, 10)\n"
          ],
          "name": "stdout"
        }
      ]
    },
    {
      "cell_type": "code",
      "metadata": {
        "colab_type": "code",
        "id": "UJhsWpbjJR7M",
        "colab": {}
      },
      "source": [
        "input_shape = (32,32,3)\n",
        "weight_decay=5e-4"
      ],
      "execution_count": 0,
      "outputs": []
    },
    {
      "cell_type": "code",
      "metadata": {
        "colab_type": "code",
        "id": "RWWo1qcJJR7S",
        "colab": {}
      },
      "source": [
        "def createModel():\n",
        "    model = Sequential()\n",
        "    model.add(Conv2D(32, (3, 3), padding='same',kernel_regularizer=regularizers.l2(weight_decay),activation='relu', input_shape=input_shape))\n",
        "    model.add(BatchNormalization())\n",
        "    model.add(Conv2D(32, (3, 3),kernel_regularizer=regularizers.l2(weight_decay), activation='relu'))\n",
        "    model.add(BatchNormalization())\n",
        "    model.add(MaxPooling2D(pool_size=(2, 2)))\n",
        "    model.add(GaussianNoise(0.3))    \n",
        " \n",
        "    model.add(Conv2D(64, (3, 3),padding='same',kernel_regularizer=regularizers.l2(weight_decay), activation='relu'))\n",
        "    model.add(BatchNormalization())\n",
        "    model.add(Conv2D(64, (3, 3),kernel_regularizer=regularizers.l2(weight_decay), activation='relu'))\n",
        "    model.add(BatchNormalization())\n",
        "    model.add(MaxPooling2D(pool_size=(2, 2)))\n",
        "    model.add(Dropout(0.4))\n",
        "    \n",
        "    model.add(Conv2D(128, (3, 3),padding='same',kernel_regularizer=regularizers.l2(weight_decay), activation='relu'))\n",
        "    model.add(BatchNormalization())\n",
        "    model.add(Conv2D(128, (3, 3),kernel_regularizer=regularizers.l2(weight_decay), activation='relu'))\n",
        "    model.add(BatchNormalization())\n",
        "    model.add(MaxPooling2D(pool_size=(2, 2)))\n",
        "    model.add(Dropout(0.5))\n",
        " \n",
        "    model.add(Flatten())\n",
        "    model.add(Dense(512, activation='relu'))\n",
        "    model.add(GaussianNoise(0.2))        \n",
        "    model.add(Dense(nClasses, activation='softmax'))\n",
        "     \n",
        "    return model"
      ],
      "execution_count": 0,
      "outputs": []
    },
    {
      "cell_type": "code",
      "metadata": {
        "id": "Ejfm0wlhOkQ9",
        "colab_type": "code",
        "colab": {}
      },
      "source": [
        ""
      ],
      "execution_count": 0,
      "outputs": []
    },
    {
      "cell_type": "code",
      "metadata": {
        "colab_type": "code",
        "id": "YtCrleJjJR7Y",
        "colab": {}
      },
      "source": [
        "datagen = ImageDataGenerator(\n",
        "    featurewise_center=False,\n",
        "    samplewise_center=False,\n",
        "    featurewise_std_normalization=False,\n",
        "    samplewise_std_normalization=False,\n",
        "    zca_whitening=False,\n",
        "    rotation_range=15,\n",
        "    width_shift_range=0.1,\n",
        "    height_shift_range=0.1,\n",
        "    horizontal_flip=True,\n",
        "    vertical_flip=False\n",
        "    )\n",
        "datagen.fit(x_train)\n",
        "batchsize = 200\n",
        "dgen=datagen.flow(x_train, y_train, batch_size=batchsize)\n"
      ],
      "execution_count": 0,
      "outputs": []
    },
    {
      "cell_type": "code",
      "metadata": {
        "colab_type": "code",
        "id": "O-RipwXKJR7b",
        "colab": {}
      },
      "source": [
        "K.clear_session()\n",
        "model = createModel()"
      ],
      "execution_count": 0,
      "outputs": []
    },
    {
      "cell_type": "code",
      "metadata": {
        "colab_type": "code",
        "id": "LImupHuyJR7d",
        "colab": {}
      },
      "source": [
        "opt_rms = keras.optimizers.rmsprop(lr=0.001,decay=1e-6)\n",
        "\n",
        "model.compile(opt_rms, loss='categorical_crossentropy', \n",
        "              metrics=['accuracy'])"
      ],
      "execution_count": 0,
      "outputs": []
    },
    {
      "cell_type": "code",
      "metadata": {
        "colab_type": "code",
        "outputId": "ed456392-53ee-43dc-857f-4c246cce3bbd",
        "id": "gq0XO5EkJR7h",
        "colab": {
          "base_uri": "https://localhost:8080/",
          "height": 3690
        }
      },
      "source": [
        "epoch = 25\n",
        "model.fit_generator(dgen,steps_per_epoch=400,epochs=3*epoch,\n",
        "                    verbose=0,validation_data=(x_test,y_test))\n",
        "\n",
        "opt_rms = keras.optimizers.rmsprop(lr=0.0015,decay=1e-5)\n",
        "model.compile(opt_rms, loss='categorical_crossentropy', \n",
        "              metrics=['accuracy'])\n",
        "model.fit_generator(dgen,steps_per_epoch=501,epochs=epoch,\n",
        "                    verbose=0,validation_data=(x_test,y_test))\n",
        "\n",
        "opt_rms = keras.optimizers.rmsprop(lr=0.00035,decay=1e-5)\n",
        "model.compile(opt_rms, loss='categorical_crossentropy', \n",
        "              metrics=['accuracy'])\n",
        "\n",
        "history=model.fit_generator(dgen,steps_per_epoch=400,epochs=100,\n",
        "                    verbose=1,validation_data=(x_test,y_test))\n",
        "\n",
        "\n",
        "\n",
        "\n"
      ],
      "execution_count": 46,
      "outputs": [
        {
          "output_type": "stream",
          "text": [
            "Epoch 1/100\n",
            "400/400 [==============================] - 59s 148ms/step - loss: 0.5716 - acc: 0.8785 - val_loss: 0.5371 - val_acc: 0.8921\n",
            "Epoch 2/100\n",
            "400/400 [==============================] - 57s 141ms/step - loss: 0.5264 - acc: 0.8881 - val_loss: 0.5517 - val_acc: 0.8827\n",
            "Epoch 3/100\n",
            "400/400 [==============================] - 57s 142ms/step - loss: 0.5035 - acc: 0.8924 - val_loss: 0.5232 - val_acc: 0.8906\n",
            "Epoch 4/100\n",
            "400/400 [==============================] - 57s 142ms/step - loss: 0.4874 - acc: 0.8947 - val_loss: 0.5219 - val_acc: 0.8862\n",
            "Epoch 5/100\n",
            "400/400 [==============================] - 57s 143ms/step - loss: 0.4711 - acc: 0.8975 - val_loss: 0.5386 - val_acc: 0.8851\n",
            "Epoch 6/100\n",
            "400/400 [==============================] - 57s 143ms/step - loss: 0.4616 - acc: 0.8992 - val_loss: 0.5012 - val_acc: 0.8896\n",
            "Epoch 7/100\n",
            "400/400 [==============================] - 57s 143ms/step - loss: 0.4507 - acc: 0.9001 - val_loss: 0.4859 - val_acc: 0.8933\n",
            "Epoch 8/100\n",
            "400/400 [==============================] - 58s 144ms/step - loss: 0.4469 - acc: 0.9002 - val_loss: 0.4811 - val_acc: 0.8924\n",
            "Epoch 9/100\n",
            "400/400 [==============================] - 57s 142ms/step - loss: 0.4405 - acc: 0.8999 - val_loss: 0.4866 - val_acc: 0.8878\n",
            "Epoch 10/100\n",
            "400/400 [==============================] - 57s 142ms/step - loss: 0.4310 - acc: 0.9019 - val_loss: 0.4796 - val_acc: 0.8904\n",
            "Epoch 11/100\n",
            "400/400 [==============================] - 57s 143ms/step - loss: 0.4257 - acc: 0.9024 - val_loss: 0.4985 - val_acc: 0.8821\n",
            "Epoch 12/100\n",
            "400/400 [==============================] - 57s 142ms/step - loss: 0.4224 - acc: 0.9022 - val_loss: 0.4935 - val_acc: 0.8864\n",
            "Epoch 13/100\n",
            "400/400 [==============================] - 57s 143ms/step - loss: 0.4184 - acc: 0.9023 - val_loss: 0.4621 - val_acc: 0.8917\n",
            "Epoch 14/100\n",
            "400/400 [==============================] - 58s 145ms/step - loss: 0.4162 - acc: 0.9028 - val_loss: 0.4397 - val_acc: 0.9004\n",
            "Epoch 15/100\n",
            "400/400 [==============================] - 57s 144ms/step - loss: 0.4100 - acc: 0.9042 - val_loss: 0.4871 - val_acc: 0.8846\n",
            "Epoch 16/100\n",
            "400/400 [==============================] - 58s 144ms/step - loss: 0.4086 - acc: 0.9041 - val_loss: 0.4981 - val_acc: 0.8816\n",
            "Epoch 17/100\n",
            "400/400 [==============================] - 57s 143ms/step - loss: 0.4043 - acc: 0.9049 - val_loss: 0.4865 - val_acc: 0.8871\n",
            "Epoch 18/100\n",
            "400/400 [==============================] - 57s 143ms/step - loss: 0.4029 - acc: 0.9043 - val_loss: 0.4779 - val_acc: 0.8860\n",
            "Epoch 19/100\n",
            "400/400 [==============================] - 57s 141ms/step - loss: 0.4010 - acc: 0.9061 - val_loss: 0.4869 - val_acc: 0.8874\n",
            "Epoch 20/100\n",
            "400/400 [==============================] - 57s 141ms/step - loss: 0.3956 - acc: 0.9063 - val_loss: 0.4458 - val_acc: 0.8947\n",
            "Epoch 21/100\n",
            "400/400 [==============================] - 58s 145ms/step - loss: 0.3940 - acc: 0.9059 - val_loss: 0.4545 - val_acc: 0.8964\n",
            "Epoch 22/100\n",
            "400/400 [==============================] - 58s 146ms/step - loss: 0.3921 - acc: 0.9061 - val_loss: 0.4549 - val_acc: 0.8918\n",
            "Epoch 23/100\n",
            "400/400 [==============================] - 58s 145ms/step - loss: 0.3929 - acc: 0.9054 - val_loss: 0.4352 - val_acc: 0.8971\n",
            "Epoch 24/100\n",
            "400/400 [==============================] - 59s 146ms/step - loss: 0.3900 - acc: 0.9056 - val_loss: 0.4590 - val_acc: 0.8879\n",
            "Epoch 25/100\n",
            "400/400 [==============================] - 58s 146ms/step - loss: 0.3877 - acc: 0.9071 - val_loss: 0.4645 - val_acc: 0.8906\n",
            "Epoch 26/100\n",
            "400/400 [==============================] - 58s 145ms/step - loss: 0.3888 - acc: 0.9063 - val_loss: 0.4618 - val_acc: 0.8919\n",
            "Epoch 27/100\n",
            "400/400 [==============================] - 57s 143ms/step - loss: 0.3861 - acc: 0.9064 - val_loss: 0.4186 - val_acc: 0.9018\n",
            "Epoch 28/100\n",
            "400/400 [==============================] - 58s 145ms/step - loss: 0.3822 - acc: 0.9079 - val_loss: 0.4367 - val_acc: 0.8947\n",
            "Epoch 29/100\n",
            "400/400 [==============================] - 57s 143ms/step - loss: 0.3825 - acc: 0.9082 - val_loss: 0.4661 - val_acc: 0.8850\n",
            "Epoch 30/100\n",
            "400/400 [==============================] - 58s 144ms/step - loss: 0.3766 - acc: 0.9085 - val_loss: 0.4418 - val_acc: 0.8959\n",
            "Epoch 31/100\n",
            "400/400 [==============================] - 58s 146ms/step - loss: 0.3790 - acc: 0.9075 - val_loss: 0.4493 - val_acc: 0.8929\n",
            "Epoch 32/100\n",
            "400/400 [==============================] - 58s 145ms/step - loss: 0.3769 - acc: 0.9089 - val_loss: 0.4310 - val_acc: 0.8947\n",
            "Epoch 33/100\n",
            "400/400 [==============================] - 58s 144ms/step - loss: 0.3784 - acc: 0.9079 - val_loss: 0.4351 - val_acc: 0.8965\n",
            "Epoch 34/100\n",
            "400/400 [==============================] - 57s 142ms/step - loss: 0.3722 - acc: 0.9102 - val_loss: 0.4629 - val_acc: 0.8879\n",
            "Epoch 35/100\n",
            "400/400 [==============================] - 57s 144ms/step - loss: 0.3750 - acc: 0.9094 - val_loss: 0.4644 - val_acc: 0.8860\n",
            "Epoch 36/100\n",
            "400/400 [==============================] - 57s 144ms/step - loss: 0.3719 - acc: 0.9096 - val_loss: 0.4277 - val_acc: 0.8976\n",
            "Epoch 37/100\n",
            "400/400 [==============================] - 58s 144ms/step - loss: 0.3713 - acc: 0.9099 - val_loss: 0.4329 - val_acc: 0.8948\n",
            "Epoch 38/100\n",
            "400/400 [==============================] - 59s 147ms/step - loss: 0.3694 - acc: 0.9099 - val_loss: 0.4461 - val_acc: 0.8940\n",
            "Epoch 39/100\n",
            "400/400 [==============================] - 58s 145ms/step - loss: 0.3692 - acc: 0.9100 - val_loss: 0.4213 - val_acc: 0.9011\n",
            "Epoch 40/100\n",
            "400/400 [==============================] - 61s 151ms/step - loss: 0.3700 - acc: 0.9098 - val_loss: 0.4674 - val_acc: 0.8854\n",
            "Epoch 41/100\n",
            "400/400 [==============================] - 59s 147ms/step - loss: 0.3653 - acc: 0.9108 - val_loss: 0.4290 - val_acc: 0.8954\n",
            "Epoch 42/100\n",
            "400/400 [==============================] - 60s 149ms/step - loss: 0.3659 - acc: 0.9107 - val_loss: 0.4276 - val_acc: 0.8994\n",
            "Epoch 43/100\n",
            "400/400 [==============================] - 59s 147ms/step - loss: 0.3643 - acc: 0.9116 - val_loss: 0.4390 - val_acc: 0.8970\n",
            "Epoch 44/100\n",
            "400/400 [==============================] - 59s 147ms/step - loss: 0.3624 - acc: 0.9107 - val_loss: 0.4283 - val_acc: 0.8984\n",
            "Epoch 45/100\n",
            "400/400 [==============================] - 59s 148ms/step - loss: 0.3660 - acc: 0.9109 - val_loss: 0.4394 - val_acc: 0.8946\n",
            "Epoch 46/100\n",
            "400/400 [==============================] - 60s 149ms/step - loss: 0.3647 - acc: 0.9109 - val_loss: 0.4496 - val_acc: 0.8923\n",
            "Epoch 47/100\n",
            "400/400 [==============================] - 58s 146ms/step - loss: 0.3589 - acc: 0.9126 - val_loss: 0.4146 - val_acc: 0.9017\n",
            "Epoch 48/100\n",
            "400/400 [==============================] - 38s 95ms/step - loss: 0.3625 - acc: 0.9116 - val_loss: 0.4497 - val_acc: 0.8942\n",
            "Epoch 49/100\n",
            "400/400 [==============================] - 34s 86ms/step - loss: 0.3592 - acc: 0.9116 - val_loss: 0.4337 - val_acc: 0.8986\n",
            "Epoch 50/100\n",
            "400/400 [==============================] - 34s 85ms/step - loss: 0.3559 - acc: 0.9137 - val_loss: 0.4440 - val_acc: 0.8936\n",
            "Epoch 51/100\n",
            "400/400 [==============================] - 34s 85ms/step - loss: 0.3602 - acc: 0.9111 - val_loss: 0.4315 - val_acc: 0.9000\n",
            "Epoch 52/100\n",
            "400/400 [==============================] - 34s 86ms/step - loss: 0.3549 - acc: 0.9130 - val_loss: 0.4522 - val_acc: 0.8927\n",
            "Epoch 53/100\n",
            "400/400 [==============================] - 35s 88ms/step - loss: 0.3575 - acc: 0.9125 - val_loss: 0.4384 - val_acc: 0.8960\n",
            "Epoch 54/100\n",
            "400/400 [==============================] - 34s 86ms/step - loss: 0.3519 - acc: 0.9145 - val_loss: 0.4278 - val_acc: 0.8985\n",
            "Epoch 55/100\n",
            "400/400 [==============================] - 34s 85ms/step - loss: 0.3570 - acc: 0.9119 - val_loss: 0.4599 - val_acc: 0.8904\n",
            "Epoch 56/100\n",
            "400/400 [==============================] - 34s 86ms/step - loss: 0.3519 - acc: 0.9138 - val_loss: 0.4382 - val_acc: 0.8948\n",
            "Epoch 57/100\n",
            "400/400 [==============================] - 34s 85ms/step - loss: 0.3548 - acc: 0.9126 - val_loss: 0.4439 - val_acc: 0.8942\n",
            "Epoch 58/100\n",
            "400/400 [==============================] - 34s 85ms/step - loss: 0.3571 - acc: 0.9124 - val_loss: 0.4294 - val_acc: 0.8961\n",
            "Epoch 59/100\n",
            "400/400 [==============================] - 34s 86ms/step - loss: 0.3499 - acc: 0.9134 - val_loss: 0.4413 - val_acc: 0.8948\n",
            "Epoch 60/100\n",
            "400/400 [==============================] - 34s 85ms/step - loss: 0.3553 - acc: 0.9120 - val_loss: 0.4440 - val_acc: 0.8919\n",
            "Epoch 61/100\n",
            "400/400 [==============================] - 34s 85ms/step - loss: 0.3531 - acc: 0.9133 - val_loss: 0.4140 - val_acc: 0.9017\n",
            "Epoch 62/100\n",
            "400/400 [==============================] - 34s 85ms/step - loss: 0.3506 - acc: 0.9138 - val_loss: 0.4417 - val_acc: 0.8925\n",
            "Epoch 63/100\n",
            "400/400 [==============================] - 34s 85ms/step - loss: 0.3503 - acc: 0.9136 - val_loss: 0.4218 - val_acc: 0.9021\n",
            "Epoch 64/100\n",
            "400/400 [==============================] - 34s 84ms/step - loss: 0.3496 - acc: 0.9137 - val_loss: 0.4126 - val_acc: 0.9023\n",
            "Epoch 65/100\n",
            "400/400 [==============================] - 34s 85ms/step - loss: 0.3499 - acc: 0.9137 - val_loss: 0.4495 - val_acc: 0.8922\n",
            "Epoch 66/100\n",
            "400/400 [==============================] - 34s 85ms/step - loss: 0.3498 - acc: 0.9138 - val_loss: 0.4322 - val_acc: 0.8949\n",
            "Epoch 67/100\n",
            "400/400 [==============================] - 34s 84ms/step - loss: 0.3451 - acc: 0.9142 - val_loss: 0.4038 - val_acc: 0.9010\n",
            "Epoch 68/100\n",
            "400/400 [==============================] - 34s 85ms/step - loss: 0.3463 - acc: 0.9152 - val_loss: 0.4013 - val_acc: 0.9008\n",
            "Epoch 69/100\n",
            "400/400 [==============================] - 34s 85ms/step - loss: 0.3455 - acc: 0.9140 - val_loss: 0.4466 - val_acc: 0.8912\n",
            "Epoch 70/100\n",
            "400/400 [==============================] - 34s 85ms/step - loss: 0.3453 - acc: 0.9152 - val_loss: 0.4356 - val_acc: 0.8944\n",
            "Epoch 71/100\n",
            "400/400 [==============================] - 35s 87ms/step - loss: 0.3454 - acc: 0.9155 - val_loss: 0.4217 - val_acc: 0.8968\n",
            "Epoch 72/100\n",
            "400/400 [==============================] - 34s 86ms/step - loss: 0.3450 - acc: 0.9154 - val_loss: 0.4157 - val_acc: 0.8987\n",
            "Epoch 73/100\n",
            "400/400 [==============================] - 34s 85ms/step - loss: 0.3446 - acc: 0.9150 - val_loss: 0.4134 - val_acc: 0.8991\n",
            "Epoch 74/100\n",
            "400/400 [==============================] - 37s 93ms/step - loss: 0.3408 - acc: 0.9167 - val_loss: 0.4100 - val_acc: 0.9026\n",
            "Epoch 75/100\n",
            "400/400 [==============================] - 59s 146ms/step - loss: 0.3452 - acc: 0.9145 - val_loss: 0.4052 - val_acc: 0.9009\n",
            "Epoch 76/100\n",
            "400/400 [==============================] - 57s 143ms/step - loss: 0.3443 - acc: 0.9158 - val_loss: 0.4162 - val_acc: 0.8976\n",
            "Epoch 77/100\n",
            "400/400 [==============================] - 57s 144ms/step - loss: 0.3409 - acc: 0.9163 - val_loss: 0.4515 - val_acc: 0.8902\n",
            "Epoch 78/100\n",
            "400/400 [==============================] - 57s 143ms/step - loss: 0.3422 - acc: 0.9155 - val_loss: 0.4342 - val_acc: 0.8973\n",
            "Epoch 79/100\n",
            "400/400 [==============================] - 58s 144ms/step - loss: 0.3385 - acc: 0.9166 - val_loss: 0.4322 - val_acc: 0.8957\n",
            "Epoch 80/100\n",
            "400/400 [==============================] - 57s 142ms/step - loss: 0.3403 - acc: 0.9163 - val_loss: 0.4254 - val_acc: 0.8982\n",
            "Epoch 81/100\n",
            "400/400 [==============================] - 57s 143ms/step - loss: 0.3387 - acc: 0.9162 - val_loss: 0.4160 - val_acc: 0.8987\n",
            "Epoch 82/100\n",
            "400/400 [==============================] - 57s 142ms/step - loss: 0.3380 - acc: 0.9173 - val_loss: 0.4318 - val_acc: 0.8931\n",
            "Epoch 83/100\n",
            "400/400 [==============================] - 57s 142ms/step - loss: 0.3397 - acc: 0.9152 - val_loss: 0.4260 - val_acc: 0.9003\n",
            "Epoch 84/100\n",
            "400/400 [==============================] - 57s 144ms/step - loss: 0.3350 - acc: 0.9179 - val_loss: 0.4281 - val_acc: 0.8979\n",
            "Epoch 85/100\n",
            "400/400 [==============================] - 57s 143ms/step - loss: 0.3386 - acc: 0.9163 - val_loss: 0.4401 - val_acc: 0.8940\n",
            "Epoch 86/100\n",
            "400/400 [==============================] - 58s 144ms/step - loss: 0.3371 - acc: 0.9159 - val_loss: 0.4360 - val_acc: 0.8956\n",
            "Epoch 87/100\n",
            "400/400 [==============================] - 57s 142ms/step - loss: 0.3361 - acc: 0.9175 - val_loss: 0.4434 - val_acc: 0.8943\n",
            "Epoch 88/100\n",
            "400/400 [==============================] - 57s 143ms/step - loss: 0.3362 - acc: 0.9179 - val_loss: 0.4351 - val_acc: 0.8946\n",
            "Epoch 89/100\n",
            "400/400 [==============================] - 57s 143ms/step - loss: 0.3328 - acc: 0.9188 - val_loss: 0.4377 - val_acc: 0.8939\n",
            "Epoch 90/100\n",
            "400/400 [==============================] - 57s 142ms/step - loss: 0.3326 - acc: 0.9174 - val_loss: 0.4504 - val_acc: 0.8909\n",
            "Epoch 91/100\n",
            "400/400 [==============================] - 58s 144ms/step - loss: 0.3325 - acc: 0.9176 - val_loss: 0.4015 - val_acc: 0.9054\n",
            "Epoch 92/100\n",
            "400/400 [==============================] - 57s 143ms/step - loss: 0.3291 - acc: 0.9193 - val_loss: 0.4239 - val_acc: 0.8973\n",
            "Epoch 93/100\n",
            "400/400 [==============================] - 57s 144ms/step - loss: 0.3323 - acc: 0.9184 - val_loss: 0.4456 - val_acc: 0.8950\n",
            "Epoch 94/100\n",
            "400/400 [==============================] - 58s 145ms/step - loss: 0.3302 - acc: 0.9189 - val_loss: 0.4254 - val_acc: 0.9008\n",
            "Epoch 95/100\n",
            "400/400 [==============================] - 57s 143ms/step - loss: 0.3315 - acc: 0.9181 - val_loss: 0.4577 - val_acc: 0.8877\n",
            "Epoch 96/100\n",
            "400/400 [==============================] - 57s 143ms/step - loss: 0.3308 - acc: 0.9191 - val_loss: 0.4268 - val_acc: 0.8966\n",
            "Epoch 97/100\n",
            "400/400 [==============================] - 58s 145ms/step - loss: 0.3285 - acc: 0.9191 - val_loss: 0.4409 - val_acc: 0.8917\n",
            "Epoch 98/100\n",
            "400/400 [==============================] - 57s 141ms/step - loss: 0.3318 - acc: 0.9173 - val_loss: 0.4109 - val_acc: 0.9031\n",
            "Epoch 99/100\n",
            "400/400 [==============================] - 56s 140ms/step - loss: 0.3275 - acc: 0.9190 - val_loss: 0.4273 - val_acc: 0.8979\n",
            "Epoch 100/100\n",
            "400/400 [==============================] - 57s 142ms/step - loss: 0.3330 - acc: 0.9170 - val_loss: 0.4397 - val_acc: 0.8924\n"
          ],
          "name": "stdout"
        }
      ]
    },
    {
      "cell_type": "markdown",
      "metadata": {
        "colab_type": "text",
        "id": "VP8wg6DMJR7m"
      },
      "source": [
        ""
      ]
    },
    {
      "cell_type": "code",
      "metadata": {
        "colab_type": "code",
        "id": "ONMJgzsFJR7n",
        "colab": {
          "base_uri": "https://localhost:8080/",
          "height": 415
        },
        "outputId": "01a189ca-aa28-4a05-bbae-80a6fc00e43a"
      },
      "source": [
        "# Loss Curves\n",
        "plt.figure(figsize=[8,6])\n",
        "plt.plot(history.history['loss'],'black',linewidth=3.0)\n",
        "plt.plot(history.history['val_loss'],'black',ls = '--', linewidth=3.0)\n",
        "plt.legend(['Training loss', 'Validation Loss'],fontsize=18)\n",
        "plt.xlabel('Epochs ',fontsize=16)\n",
        "plt.ylabel('Loss',fontsize=16)\n",
        "#plt.title('Loss Curves',fontsize=16)"
      ],
      "execution_count": 47,
      "outputs": [
        {
          "output_type": "execute_result",
          "data": {
            "text/plain": [
              "Text(0, 0.5, 'Loss')"
            ]
          },
          "metadata": {
            "tags": []
          },
          "execution_count": 47
        },
        {
          "output_type": "display_data",
          "data": {
            "image/png": "[encoded data removed]",
            "text/plain": [
              "<Figure size 576x432 with 1 Axes>"
            ]
          },
          "metadata": {
            "tags": []
          }
        }
      ]
    },
    {
      "cell_type": "code",
      "metadata": {
        "colab_type": "code",
        "id": "y7BZrfTXJR7q",
        "colab": {
          "base_uri": "https://localhost:8080/",
          "height": 415
        },
        "outputId": "5f19e0bb-5b0c-453b-c2e4-7582de5711a8"
      },
      "source": [
        "plt.figure(figsize=[8,6])\n",
        "plt.plot(history.history['acc'],'black',linewidth=3.0)\n",
        "plt.plot(history.history['val_acc'],'black',ls = '--',linewidth=3.0)\n",
        "plt.legend(['Training Accuracy', 'Validation Accuracy'],fontsize=18, \n",
        "           loc = 'lower right')\n",
        "plt.xlabel('Epochs ',fontsize=16)\n",
        "plt.ylabel('Accuracy',fontsize=16)\n",
        "#plt.title('Accuracy Curves',fontsize=16)\n",
        "plt.xlim(0,100)\n",
        "plt.ylim(0.7,1)"
      ],
      "execution_count": 54,
      "outputs": [
        {
          "output_type": "execute_result",
          "data": {
            "text/plain": [
              "(0.7, 1)"
            ]
          },
          "metadata": {
            "tags": []
          },
          "execution_count": 54
        },
        {
          "output_type": "display_data",
          "data": {
            "image/png": "[encoded data removed]",
            "text/plain": [
              "<Figure size 576x432 with 1 Axes>"
            ]
          },
          "metadata": {
            "tags": []
          }
        }
      ]
    },
    {
      "cell_type": "code",
      "metadata": {
        "colab_type": "code",
        "id": "46Qx7un2JR7s",
        "colab": {}
      },
      "source": [
        ""
      ],
      "execution_count": 0,
      "outputs": []
    },
    {
      "cell_type": "code",
      "metadata": {
        "id": "8UhXsenU-vif",
        "colab_type": "code",
        "colab": {}
      },
      "source": [
        ""
      ],
      "execution_count": 0,
      "outputs": []
    }
  ]
}