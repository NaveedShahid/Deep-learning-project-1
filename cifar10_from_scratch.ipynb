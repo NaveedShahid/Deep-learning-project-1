{
  "nbformat": 4,
  "nbformat_minor": 0,
  "metadata": {
    "colab": {
      "name": "cifar10_from_scratch",
      "version": "0.3.2",
      "provenance": [],
      "collapsed_sections": []
    },
    "kernelspec": {
      "name": "python3",
      "display_name": "Python 3"
    },
    "accelerator": "GPU"
  },
  "cells": [
    {
      "cell_type": "code",
      "metadata": {
        "id": "295ZmKNJCouo",
        "colab_type": "code",
        "colab": {}
      },
      "source": [
        "from keras.models import Sequential\n",
        "from keras.layers import Dense,Flatten,GaussianNoise,BatchNormalization,Dropout\n",
        "from keras.layers.convolutional import Conv2D\n",
        "from keras.layers.convolutional import MaxPooling2D \n",
        "import numpy as np\n",
        "\n",
        "from keras.utils import np_utils\n",
        "from keras.datasets import cifar10"
      ],
      "execution_count": 0,
      "outputs": []
    },
    {
      "cell_type": "code",
      "metadata": {
        "id": "P2otG3TaDX9q",
        "colab_type": "code",
        "colab": {}
      },
      "source": [
        "(train_x,train_y),(test_x,test_y) = cifar10.load_data()"
      ],
      "execution_count": 0,
      "outputs": []
    },
    {
      "cell_type": "code",
      "metadata": {
        "id": "u-NoYpDADYAb",
        "colab_type": "code",
        "outputId": "0be04aa4-bdbc-4cdf-f190-27b7a8d58af0",
        "colab": {
          "base_uri": "https://localhost:8080/",
          "height": 35
        }
      },
      "source": [
        "train_x.shape\n"
      ],
      "execution_count": 53,
      "outputs": [
        {
          "output_type": "execute_result",
          "data": {
            "text/plain": [
              "(50000, 32, 32, 3)"
            ]
          },
          "metadata": {
            "tags": []
          },
          "execution_count": 53
        }
      ]
    },
    {
      "cell_type": "code",
      "metadata": {
        "id": "K6bNzfVCDYHo",
        "colab_type": "code",
        "colab": {}
      },
      "source": [
        "train_x = train_x.astype('float32')/255\n",
        "test_x = test_x.astype('float32')/255\n"
      ],
      "execution_count": 0,
      "outputs": []
    },
    {
      "cell_type": "code",
      "metadata": {
        "id": "-Nkcv4ZpDYK5",
        "colab_type": "code",
        "colab": {}
      },
      "source": [
        "train_y = np_utils.to_categorical(train_y,10)\n",
        "test_y = np_utils.to_categorical(test_y,10)\n"
      ],
      "execution_count": 0,
      "outputs": []
    },
    {
      "cell_type": "code",
      "metadata": {
        "id": "-UYEivGBDYCu",
        "colab_type": "code",
        "outputId": "de961fe0-2972-4014-f4df-661b27772f00",
        "colab": {
          "base_uri": "https://localhost:8080/",
          "height": 35
        }
      },
      "source": [
        "train_y.shape\n"
      ],
      "execution_count": 56,
      "outputs": [
        {
          "output_type": "execute_result",
          "data": {
            "text/plain": [
              "(50000, 10)"
            ]
          },
          "metadata": {
            "tags": []
          },
          "execution_count": 56
        }
      ]
    },
    {
      "cell_type": "code",
      "metadata": {
        "id": "vthZ1yRuHBWS",
        "colab_type": "code",
        "colab": {}
      },
      "source": [
        "test_x.shape\n",
        "input_shape = (32,32,3)"
      ],
      "execution_count": 0,
      "outputs": []
    },
    {
      "cell_type": "code",
      "metadata": {
        "id": "lnp46tigGlWq",
        "colab_type": "code",
        "colab": {}
      },
      "source": [
        "model = Sequential()"
      ],
      "execution_count": 0,
      "outputs": []
    },
    {
      "cell_type": "code",
      "metadata": {
        "id": "DIvxQjbBG3S2",
        "colab_type": "code",
        "colab": {}
      },
      "source": [
        "#  model.add(Conv2D(32,(3,3),activation=\"relu\",input_shape = input_shape))\n",
        " # model.add(Flatten())\n",
        "  #model.add(Dense(512,activation=\"relu\"))\n",
        "  #model.add(Dense(10,activation = \"softmax\"))"
      ],
      "execution_count": 0,
      "outputs": []
    },
    {
      "cell_type": "code",
      "metadata": {
        "id": "xvWMYyJXSF8Z",
        "colab_type": "code",
        "colab": {}
      },
      "source": [
        "    model.add(Conv2D(32, (3, 3), padding='same',activation='relu', input_shape=input_shape))\n",
        "    model.add(BatchNormalization())\n",
        "    model.add(Conv2D(32, (5, 5), activation='relu'))\n",
        "    model.add(BatchNormalization())\n",
        "    model.add(MaxPooling2D(pool_size=(2, 2)))\n",
        "    model.add(GaussianNoise(0.5))\n",
        "    model.add(Dropout(0.7))\n",
        "\n",
        " \n",
        "    model.add(Flatten())\n",
        "    model.add(Dense(1000, activation='relu'))\n",
        "    model.add(GaussianNoise(0.2))        \n",
        "    model.add(Dense(10, activation='softmax'))\n",
        "     "
      ],
      "execution_count": 0,
      "outputs": []
    },
    {
      "cell_type": "code",
      "metadata": {
        "id": "Jd9xCXzvHeU_",
        "colab_type": "code",
        "colab": {}
      },
      "source": [
        "model.compile(optimizer='rmsprop',loss='categorical_crossentropy',metrics=['accuracy'])"
      ],
      "execution_count": 0,
      "outputs": []
    },
    {
      "cell_type": "code",
      "metadata": {
        "id": "kihG2dxLHo8v",
        "colab_type": "code",
        "outputId": "37f8759f-fc3d-4562-e797-8ca6cac3f130",
        "colab": {
          "base_uri": "https://localhost:8080/",
          "height": 1482
        }
      },
      "source": [
        "history= model.fit(train_x, train_y, epochs=50, batch_size=128,validation_data=(test_x,test_y))"
      ],
      "execution_count": 62,
      "outputs": [
        {
          "output_type": "stream",
          "text": [
            "Train on 50000 samples, validate on 10000 samples\n",
            "Epoch 1/50\n",
            "50000/50000 [==============================] - 9s 172us/step - loss: 2.0413 - acc: 0.4221 - val_loss: 1.3763 - val_acc: 0.4970\n",
            "Epoch 2/50\n",
            "50000/50000 [==============================] - 7s 146us/step - loss: 1.2800 - acc: 0.5519 - val_loss: 1.2813 - val_acc: 0.5434\n",
            "Epoch 3/50\n",
            "50000/50000 [==============================] - 7s 146us/step - loss: 1.1362 - acc: 0.6039 - val_loss: 1.2370 - val_acc: 0.5643\n",
            "Epoch 4/50\n",
            "50000/50000 [==============================] - 7s 146us/step - loss: 1.0495 - acc: 0.6366 - val_loss: 1.0190 - val_acc: 0.6397\n",
            "Epoch 5/50\n",
            "50000/50000 [==============================] - 7s 147us/step - loss: 0.9856 - acc: 0.6593 - val_loss: 1.0451 - val_acc: 0.6317\n",
            "Epoch 6/50\n",
            "50000/50000 [==============================] - 7s 146us/step - loss: 0.9346 - acc: 0.6777 - val_loss: 0.9472 - val_acc: 0.6771\n",
            "Epoch 7/50\n",
            "50000/50000 [==============================] - 7s 146us/step - loss: 0.8965 - acc: 0.6941 - val_loss: 1.4227 - val_acc: 0.5209\n",
            "Epoch 8/50\n",
            "50000/50000 [==============================] - 7s 146us/step - loss: 0.8635 - acc: 0.7029 - val_loss: 0.9746 - val_acc: 0.6659\n",
            "Epoch 9/50\n",
            "50000/50000 [==============================] - 7s 147us/step - loss: 0.8338 - acc: 0.7176 - val_loss: 0.9252 - val_acc: 0.6794\n",
            "Epoch 10/50\n",
            "50000/50000 [==============================] - 7s 146us/step - loss: 0.8107 - acc: 0.7225 - val_loss: 0.9386 - val_acc: 0.6809\n",
            "Epoch 11/50\n",
            "50000/50000 [==============================] - 7s 147us/step - loss: 0.7784 - acc: 0.7353 - val_loss: 0.9381 - val_acc: 0.6891\n",
            "Epoch 12/50\n",
            "50000/50000 [==============================] - 7s 148us/step - loss: 0.7640 - acc: 0.7443 - val_loss: 0.9010 - val_acc: 0.6991\n",
            "Epoch 13/50\n",
            "50000/50000 [==============================] - 7s 147us/step - loss: 0.7445 - acc: 0.7511 - val_loss: 0.8890 - val_acc: 0.7053\n",
            "Epoch 14/50\n",
            "50000/50000 [==============================] - 7s 147us/step - loss: 0.7193 - acc: 0.7589 - val_loss: 0.8976 - val_acc: 0.7031\n",
            "Epoch 15/50\n",
            "50000/50000 [==============================] - 7s 147us/step - loss: 0.7166 - acc: 0.7612 - val_loss: 0.8595 - val_acc: 0.7087\n",
            "Epoch 16/50\n",
            "50000/50000 [==============================] - 7s 147us/step - loss: 0.6859 - acc: 0.7708 - val_loss: 0.8719 - val_acc: 0.7139\n",
            "Epoch 17/50\n",
            "50000/50000 [==============================] - 7s 147us/step - loss: 0.6766 - acc: 0.7747 - val_loss: 0.8820 - val_acc: 0.7218\n",
            "Epoch 18/50\n",
            "50000/50000 [==============================] - 7s 147us/step - loss: 0.6584 - acc: 0.7856 - val_loss: 0.9293 - val_acc: 0.7104\n",
            "Epoch 19/50\n",
            "50000/50000 [==============================] - 7s 147us/step - loss: 0.6432 - acc: 0.7894 - val_loss: 0.9597 - val_acc: 0.7007\n",
            "Epoch 20/50\n",
            "50000/50000 [==============================] - 7s 147us/step - loss: 0.6407 - acc: 0.7915 - val_loss: 0.9701 - val_acc: 0.6954\n",
            "Epoch 21/50\n",
            "50000/50000 [==============================] - 7s 147us/step - loss: 0.6218 - acc: 0.7992 - val_loss: 0.9075 - val_acc: 0.7144\n",
            "Epoch 22/50\n",
            "50000/50000 [==============================] - 7s 148us/step - loss: 0.6176 - acc: 0.8025 - val_loss: 0.9783 - val_acc: 0.7143\n",
            "Epoch 23/50\n",
            "50000/50000 [==============================] - 7s 148us/step - loss: 0.6078 - acc: 0.8060 - val_loss: 0.9161 - val_acc: 0.7302\n",
            "Epoch 24/50\n",
            "50000/50000 [==============================] - 7s 148us/step - loss: 0.5859 - acc: 0.8117 - val_loss: 0.9206 - val_acc: 0.7215\n",
            "Epoch 25/50\n",
            "50000/50000 [==============================] - 7s 148us/step - loss: 0.5849 - acc: 0.8155 - val_loss: 0.9452 - val_acc: 0.7053\n",
            "Epoch 26/50\n",
            "50000/50000 [==============================] - 7s 148us/step - loss: 0.5658 - acc: 0.8188 - val_loss: 0.8834 - val_acc: 0.7320\n",
            "Epoch 27/50\n",
            "50000/50000 [==============================] - 7s 149us/step - loss: 0.5653 - acc: 0.8230 - val_loss: 0.9237 - val_acc: 0.7213\n",
            "Epoch 28/50\n",
            "50000/50000 [==============================] - 8s 151us/step - loss: 0.5482 - acc: 0.8258 - val_loss: 0.8799 - val_acc: 0.7229\n",
            "Epoch 29/50\n",
            "50000/50000 [==============================] - 7s 149us/step - loss: 0.5393 - acc: 0.8320 - val_loss: 0.9617 - val_acc: 0.7375\n",
            "Epoch 30/50\n",
            "50000/50000 [==============================] - 7s 149us/step - loss: 0.5361 - acc: 0.8335 - val_loss: 0.9677 - val_acc: 0.7075\n",
            "Epoch 31/50\n",
            "25472/50000 [==============>...............] - ETA: 3s - loss: 0.5129 - acc: 0.8416"
          ],
          "name": "stdout"
        },
        {
          "output_type": "error",
          "ename": "KeyboardInterrupt",
          "evalue": "ignored",
          "traceback": [
            "\u001b[0;31m---------------------------------------------------------------------------\u001b[0m",
            "\u001b[0;31mKeyboardInterrupt\u001b[0m                         Traceback (most recent call last)",
            "\u001b[0;32m<ipython-input-62-f97275692f4d>\u001b[0m in \u001b[0;36m<module>\u001b[0;34m()\u001b[0m\n\u001b[0;32m----> 1\u001b[0;31m \u001b[0mhistory\u001b[0m\u001b[0;34m=\u001b[0m \u001b[0mmodel\u001b[0m\u001b[0;34m.\u001b[0m\u001b[0mfit\u001b[0m\u001b[0;34m(\u001b[0m\u001b[0mtrain_x\u001b[0m\u001b[0;34m,\u001b[0m \u001b[0mtrain_y\u001b[0m\u001b[0;34m,\u001b[0m \u001b[0mepochs\u001b[0m\u001b[0;34m=\u001b[0m\u001b[0;36m50\u001b[0m\u001b[0;34m,\u001b[0m \u001b[0mbatch_size\u001b[0m\u001b[0;34m=\u001b[0m\u001b[0;36m128\u001b[0m\u001b[0;34m,\u001b[0m\u001b[0mvalidation_data\u001b[0m\u001b[0;34m=\u001b[0m\u001b[0;34m(\u001b[0m\u001b[0mtest_x\u001b[0m\u001b[0;34m,\u001b[0m\u001b[0mtest_y\u001b[0m\u001b[0;34m)\u001b[0m\u001b[0;34m)\u001b[0m\u001b[0;34m\u001b[0m\u001b[0;34m\u001b[0m\u001b[0m\n\u001b[0m",
            "\u001b[0;32m/usr/local/lib/python3.6/dist-packages/keras/engine/training.py\u001b[0m in \u001b[0;36mfit\u001b[0;34m(self, x, y, batch_size, epochs, verbose, callbacks, validation_split, validation_data, shuffle, class_weight, sample_weight, initial_epoch, steps_per_epoch, validation_steps, **kwargs)\u001b[0m\n\u001b[1;32m   1037\u001b[0m                                         \u001b[0minitial_epoch\u001b[0m\u001b[0;34m=\u001b[0m\u001b[0minitial_epoch\u001b[0m\u001b[0;34m,\u001b[0m\u001b[0;34m\u001b[0m\u001b[0;34m\u001b[0m\u001b[0m\n\u001b[1;32m   1038\u001b[0m                                         \u001b[0msteps_per_epoch\u001b[0m\u001b[0;34m=\u001b[0m\u001b[0msteps_per_epoch\u001b[0m\u001b[0;34m,\u001b[0m\u001b[0;34m\u001b[0m\u001b[0;34m\u001b[0m\u001b[0m\n\u001b[0;32m-> 1039\u001b[0;31m                                         validation_steps=validation_steps)\n\u001b[0m\u001b[1;32m   1040\u001b[0m \u001b[0;34m\u001b[0m\u001b[0m\n\u001b[1;32m   1041\u001b[0m     def evaluate(self, x=None, y=None,\n",
            "\u001b[0;32m/usr/local/lib/python3.6/dist-packages/keras/engine/training_arrays.py\u001b[0m in \u001b[0;36mfit_loop\u001b[0;34m(model, f, ins, out_labels, batch_size, epochs, verbose, callbacks, val_f, val_ins, shuffle, callback_metrics, initial_epoch, steps_per_epoch, validation_steps)\u001b[0m\n\u001b[1;32m    197\u001b[0m                     \u001b[0mins_batch\u001b[0m\u001b[0;34m[\u001b[0m\u001b[0mi\u001b[0m\u001b[0;34m]\u001b[0m \u001b[0;34m=\u001b[0m \u001b[0mins_batch\u001b[0m\u001b[0;34m[\u001b[0m\u001b[0mi\u001b[0m\u001b[0;34m]\u001b[0m\u001b[0;34m.\u001b[0m\u001b[0mtoarray\u001b[0m\u001b[0;34m(\u001b[0m\u001b[0;34m)\u001b[0m\u001b[0;34m\u001b[0m\u001b[0;34m\u001b[0m\u001b[0m\n\u001b[1;32m    198\u001b[0m \u001b[0;34m\u001b[0m\u001b[0m\n\u001b[0;32m--> 199\u001b[0;31m                 \u001b[0mouts\u001b[0m \u001b[0;34m=\u001b[0m \u001b[0mf\u001b[0m\u001b[0;34m(\u001b[0m\u001b[0mins_batch\u001b[0m\u001b[0;34m)\u001b[0m\u001b[0;34m\u001b[0m\u001b[0;34m\u001b[0m\u001b[0m\n\u001b[0m\u001b[1;32m    200\u001b[0m                 \u001b[0mouts\u001b[0m \u001b[0;34m=\u001b[0m \u001b[0mto_list\u001b[0m\u001b[0;34m(\u001b[0m\u001b[0mouts\u001b[0m\u001b[0;34m)\u001b[0m\u001b[0;34m\u001b[0m\u001b[0;34m\u001b[0m\u001b[0m\n\u001b[1;32m    201\u001b[0m                 \u001b[0;32mfor\u001b[0m \u001b[0ml\u001b[0m\u001b[0;34m,\u001b[0m \u001b[0mo\u001b[0m \u001b[0;32min\u001b[0m \u001b[0mzip\u001b[0m\u001b[0;34m(\u001b[0m\u001b[0mout_labels\u001b[0m\u001b[0;34m,\u001b[0m \u001b[0mouts\u001b[0m\u001b[0;34m)\u001b[0m\u001b[0;34m:\u001b[0m\u001b[0;34m\u001b[0m\u001b[0;34m\u001b[0m\u001b[0m\n",
            "\u001b[0;32m/usr/local/lib/python3.6/dist-packages/keras/backend/tensorflow_backend.py\u001b[0m in \u001b[0;36m__call__\u001b[0;34m(self, inputs)\u001b[0m\n\u001b[1;32m   2713\u001b[0m                 \u001b[0;32mreturn\u001b[0m \u001b[0mself\u001b[0m\u001b[0;34m.\u001b[0m\u001b[0m_legacy_call\u001b[0m\u001b[0;34m(\u001b[0m\u001b[0minputs\u001b[0m\u001b[0;34m)\u001b[0m\u001b[0;34m\u001b[0m\u001b[0;34m\u001b[0m\u001b[0m\n\u001b[1;32m   2714\u001b[0m \u001b[0;34m\u001b[0m\u001b[0m\n\u001b[0;32m-> 2715\u001b[0;31m             \u001b[0;32mreturn\u001b[0m \u001b[0mself\u001b[0m\u001b[0;34m.\u001b[0m\u001b[0m_call\u001b[0m\u001b[0;34m(\u001b[0m\u001b[0minputs\u001b[0m\u001b[0;34m)\u001b[0m\u001b[0;34m\u001b[0m\u001b[0;34m\u001b[0m\u001b[0m\n\u001b[0m\u001b[1;32m   2716\u001b[0m         \u001b[0;32melse\u001b[0m\u001b[0;34m:\u001b[0m\u001b[0;34m\u001b[0m\u001b[0;34m\u001b[0m\u001b[0m\n\u001b[1;32m   2717\u001b[0m             \u001b[0;32mif\u001b[0m \u001b[0mpy_any\u001b[0m\u001b[0;34m(\u001b[0m\u001b[0mis_tensor\u001b[0m\u001b[0;34m(\u001b[0m\u001b[0mx\u001b[0m\u001b[0;34m)\u001b[0m \u001b[0;32mfor\u001b[0m \u001b[0mx\u001b[0m \u001b[0;32min\u001b[0m \u001b[0minputs\u001b[0m\u001b[0;34m)\u001b[0m\u001b[0;34m:\u001b[0m\u001b[0;34m\u001b[0m\u001b[0;34m\u001b[0m\u001b[0m\n",
            "\u001b[0;32m/usr/local/lib/python3.6/dist-packages/keras/backend/tensorflow_backend.py\u001b[0m in \u001b[0;36m_call\u001b[0;34m(self, inputs)\u001b[0m\n\u001b[1;32m   2673\u001b[0m             \u001b[0mfetched\u001b[0m \u001b[0;34m=\u001b[0m \u001b[0mself\u001b[0m\u001b[0;34m.\u001b[0m\u001b[0m_callable_fn\u001b[0m\u001b[0;34m(\u001b[0m\u001b[0;34m*\u001b[0m\u001b[0marray_vals\u001b[0m\u001b[0;34m,\u001b[0m \u001b[0mrun_metadata\u001b[0m\u001b[0;34m=\u001b[0m\u001b[0mself\u001b[0m\u001b[0;34m.\u001b[0m\u001b[0mrun_metadata\u001b[0m\u001b[0;34m)\u001b[0m\u001b[0;34m\u001b[0m\u001b[0;34m\u001b[0m\u001b[0m\n\u001b[1;32m   2674\u001b[0m         \u001b[0;32melse\u001b[0m\u001b[0;34m:\u001b[0m\u001b[0;34m\u001b[0m\u001b[0;34m\u001b[0m\u001b[0m\n\u001b[0;32m-> 2675\u001b[0;31m             \u001b[0mfetched\u001b[0m \u001b[0;34m=\u001b[0m \u001b[0mself\u001b[0m\u001b[0;34m.\u001b[0m\u001b[0m_callable_fn\u001b[0m\u001b[0;34m(\u001b[0m\u001b[0;34m*\u001b[0m\u001b[0marray_vals\u001b[0m\u001b[0;34m)\u001b[0m\u001b[0;34m\u001b[0m\u001b[0;34m\u001b[0m\u001b[0m\n\u001b[0m\u001b[1;32m   2676\u001b[0m         \u001b[0;32mreturn\u001b[0m \u001b[0mfetched\u001b[0m\u001b[0;34m[\u001b[0m\u001b[0;34m:\u001b[0m\u001b[0mlen\u001b[0m\u001b[0;34m(\u001b[0m\u001b[0mself\u001b[0m\u001b[0;34m.\u001b[0m\u001b[0moutputs\u001b[0m\u001b[0;34m)\u001b[0m\u001b[0;34m]\u001b[0m\u001b[0;34m\u001b[0m\u001b[0;34m\u001b[0m\u001b[0m\n\u001b[1;32m   2677\u001b[0m \u001b[0;34m\u001b[0m\u001b[0m\n",
            "\u001b[0;32m/usr/local/lib/python3.6/dist-packages/tensorflow/python/client/session.py\u001b[0m in \u001b[0;36m__call__\u001b[0;34m(self, *args, **kwargs)\u001b[0m\n\u001b[1;32m   1437\u001b[0m           ret = tf_session.TF_SessionRunCallable(\n\u001b[1;32m   1438\u001b[0m               \u001b[0mself\u001b[0m\u001b[0;34m.\u001b[0m\u001b[0m_session\u001b[0m\u001b[0;34m.\u001b[0m\u001b[0m_session\u001b[0m\u001b[0;34m,\u001b[0m \u001b[0mself\u001b[0m\u001b[0;34m.\u001b[0m\u001b[0m_handle\u001b[0m\u001b[0;34m,\u001b[0m \u001b[0margs\u001b[0m\u001b[0;34m,\u001b[0m \u001b[0mstatus\u001b[0m\u001b[0;34m,\u001b[0m\u001b[0;34m\u001b[0m\u001b[0;34m\u001b[0m\u001b[0m\n\u001b[0;32m-> 1439\u001b[0;31m               run_metadata_ptr)\n\u001b[0m\u001b[1;32m   1440\u001b[0m         \u001b[0;32mif\u001b[0m \u001b[0mrun_metadata\u001b[0m\u001b[0;34m:\u001b[0m\u001b[0;34m\u001b[0m\u001b[0;34m\u001b[0m\u001b[0m\n\u001b[1;32m   1441\u001b[0m           \u001b[0mproto_data\u001b[0m \u001b[0;34m=\u001b[0m \u001b[0mtf_session\u001b[0m\u001b[0;34m.\u001b[0m\u001b[0mTF_GetBuffer\u001b[0m\u001b[0;34m(\u001b[0m\u001b[0mrun_metadata_ptr\u001b[0m\u001b[0;34m)\u001b[0m\u001b[0;34m\u001b[0m\u001b[0;34m\u001b[0m\u001b[0m\n",
            "\u001b[0;31mKeyboardInterrupt\u001b[0m: "
          ]
        }
      ]
    },
    {
      "cell_type": "code",
      "metadata": {
        "id": "2RG26jQJpjgw",
        "colab_type": "code",
        "colab": {}
      },
      "source": [
        "# Loss Curves\n",
        "import matplotlib.pyplot as plt\n",
        "\n",
        "plt.figure(figsize=[8,6])\n",
        "plt.plot(history.history['loss'],'black',linewidth=3.0)\n",
        "plt.plot(history.history['val_loss'],'black',ls = '--', linewidth=3.0)\n",
        "plt.legend(['Training loss', 'Validation Loss'],fontsize=18)\n",
        "plt.xlabel('Epochs ',fontsize=16)\n",
        "plt.ylabel('Loss',fontsize=16)\n",
        "plt.title('Loss Curves',fontsize=16)"
      ],
      "execution_count": 0,
      "outputs": []
    },
    {
      "cell_type": "code",
      "metadata": {
        "id": "7_3tcM5ipjbc",
        "colab_type": "code",
        "colab": {}
      },
      "source": [
        "plt.figure(figsize=[8,6])\n",
        "plt.plot(history.history['acc'],'black',linewidth=3.0)\n",
        "plt.plot(history.history['val_acc'],'black',ls = '--',linewidth=3.0)\n",
        "plt.legend(['Training Accuracy', 'Validation Accuracy'],fontsize=18, \n",
        "           loc = 'lower right')\n",
        "plt.xlabel('Epochs ',fontsize=16)\n",
        "plt.ylabel('Accuracy',fontsize=16)\n",
        "plt.title('Accuracy Curves',fontsize=16)\n",
        "plt.xlim(0,100)\n",
        "\n"
      ],
      "execution_count": 0,
      "outputs": []
    },
    {
      "cell_type": "code",
      "metadata": {
        "id": "7kNQ6_fhH5vM",
        "colab_type": "code",
        "colab": {}
      },
      "source": [
        ""
      ],
      "execution_count": 0,
      "outputs": []
    }
  ]
}