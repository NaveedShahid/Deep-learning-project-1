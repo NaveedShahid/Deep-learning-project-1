{
  "nbformat": 4,
  "nbformat_minor": 0,
  "metadata": {
    "colab": {
      "name": "10.ipynb",
      "version": "0.3.2",
      "provenance": [],
      "collapsed_sections": [],
      "toc_visible": true
    },
    "language_info": {
      "codemirror_mode": {
        "name": "ipython",
        "version": 3
      },
      "file_extension": ".py",
      "mimetype": "text/x-python",
      "name": "python",
      "nbconvert_exporter": "python",
      "pygments_lexer": "ipython3",
      "version": "3.6.8"
    },
    "kernelspec": {
      "name": "python3",
      "display_name": "Python 3"
    },
    "accelerator": "GPU"
  },
  "cells": [
    {
      "cell_type": "code",
      "metadata": {
        "id": "C3G3AFLhitch",
        "colab_type": "code",
        "outputId": "b90978ff-286d-42b4-a3b6-c5e3e82fb95e",
        "colab": {
          "base_uri": "https://localhost:8080/",
          "height": 36
        }
      },
      "source": [
        "#cifar 10 data set\n",
        "import keras\n",
        "from keras.models import Sequential\n",
        "from keras.layers import Dense, Conv2D, MaxPooling2D, Dropout, Flatten,BatchNormalization,GaussianNoise\n",
        "\n",
        "from keras.preprocessing.image import ImageDataGenerator\n",
        "from keras import regularizers, optimizers\n",
        "\n",
        "import keras.backend as K\n",
        "from keras.optimizers import rmsprop\n",
        "\n",
        "from keras.utils import np_utils\n",
        "from keras.datasets import cifar10\n",
        "import numpy as np\n",
        "\n",
        "import matplotlib.pyplot as plt\n",
        "\n",
        "from keras import backend as K\n",
        "K.set_image_dim_ordering('tf')\n",
        "\n",
        "\n"
      ],
      "execution_count": 1,
      "outputs": [
        {
          "output_type": "stream",
          "text": [
            "Using TensorFlow backend.\n"
          ],
          "name": "stderr"
        }
      ]
    },
    {
      "cell_type": "code",
      "metadata": {
        "id": "8iBOJQj4itcr",
        "colab_type": "code",
        "colab": {}
      },
      "source": [
        "(x_train, y_train), (x_test, y_test) = cifar10.load_data()\n",
        "x_train = x_train.astype('float32')\n",
        "x_test = x_test.astype('float32')"
      ],
      "execution_count": 0,
      "outputs": []
    },
    {
      "cell_type": "code",
      "metadata": {
        "id": "PgHdtVuYitcw",
        "colab_type": "code",
        "outputId": "af4ca12c-8f4c-4f92-ee69-2b318d070068",
        "colab": {
          "base_uri": "https://localhost:8080/",
          "height": 36
        }
      },
      "source": [
        "mean = np.mean(x_train,axis=(0,1,2,3))\n",
        "std = np.std(x_train,axis=(0,1,2,3))\n",
        "x_train = (x_train-mean)/(std+1e-7)\n",
        "x_test = (x_test-mean)/(std+1e-7)\n",
        "std"
      ],
      "execution_count": 3,
      "outputs": [
        {
          "output_type": "execute_result",
          "data": {
            "text/plain": [
              "64.150024"
            ]
          },
          "metadata": {
            "tags": []
          },
          "execution_count": 3
        }
      ]
    },
    {
      "cell_type": "code",
      "metadata": {
        "id": "KaT7MVZgitc0",
        "colab_type": "code",
        "colab": {}
      },
      "source": [
        "nClasses = 10\n",
        "y_train = np_utils.to_categorical(y_train,nClasses)\n",
        "y_test = np_utils.to_categorical(y_test,nClasses)"
      ],
      "execution_count": 0,
      "outputs": []
    },
    {
      "cell_type": "code",
      "metadata": {
        "id": "T64DlZ4mitc4",
        "colab_type": "code",
        "outputId": "18d3d4d4-d51e-4e8c-a7bb-6e0831540123",
        "colab": {
          "base_uri": "https://localhost:8080/",
          "height": 54
        }
      },
      "source": [
        "print(x_train.shape)\n",
        "print(y_train.shape)"
      ],
      "execution_count": 5,
      "outputs": [
        {
          "output_type": "stream",
          "text": [
            "(50000, 32, 32, 3)\n",
            "(50000, 10)\n"
          ],
          "name": "stdout"
        }
      ]
    },
    {
      "cell_type": "code",
      "metadata": {
        "id": "YVcNndmAitc7",
        "colab_type": "code",
        "colab": {}
      },
      "source": [
        "input_shape = (32,32,3)\n",
        "weight_decay=1e-3"
      ],
      "execution_count": 0,
      "outputs": []
    },
    {
      "cell_type": "code",
      "metadata": {
        "id": "ZeFkcndLitc_",
        "colab_type": "code",
        "colab": {}
      },
      "source": [
        "def createModel():\n",
        "    model = Sequential()\n",
        "    \n",
        "    model.add(Conv2D(32, (3, 3), padding='same', kernel_regularizer=regularizers.l2(weight_decay),activation='relu', input_shape=input_shape))\n",
        "    model.add(BatchNormalization())\n",
        "    model.add(Conv2D(32, (3, 3),kernel_regularizer=regularizers.l2(weight_decay), activation='relu'))\n",
        "    model.add(BatchNormalization())\n",
        "    model.add(MaxPooling2D(pool_size=(2, 2)))\n",
        "    model.add(GaussianNoise(0.2))    \n",
        "        \n",
        "    model.add(Conv2D(64, (3, 3), padding='same', kernel_regularizer=regularizers.l2(weight_decay),activation='relu'))\n",
        "    model.add(BatchNormalization())\n",
        "    model.add(Conv2D(64, (3, 3),kernel_regularizer=regularizers.l2(weight_decay), activation='relu'))\n",
        "    model.add(BatchNormalization())\n",
        "    model.add(MaxPooling2D(pool_size=(2, 2)))\n",
        "    model.add(Dropout(0.5))  \n",
        "\n",
        "    model.add(Conv2D(128, (3, 3), padding='same',kernel_regularizer=regularizers.l2(weight_decay), activation='relu'))\n",
        "    model.add(BatchNormalization())\n",
        "    model.add(Conv2D(128, (3, 3),kernel_regularizer=regularizers.l2(weight_decay), activation='relu'))\n",
        "    model.add(BatchNormalization())\n",
        "    model.add(MaxPooling2D(pool_size=(2, 2)))\n",
        "    model.add(Dropout(0.7))\n",
        "   \n",
        " \n",
        "    model.add(Flatten())\n",
        "    model.add(Dense(200, activation='relu'))\n",
        "    model.add(Dense(nClasses, activation='softmax'))\n",
        "     \n",
        "    return model"
      ],
      "execution_count": 0,
      "outputs": []
    },
    {
      "cell_type": "code",
      "metadata": {
        "id": "WxrLJ3mUitdD",
        "colab_type": "code",
        "colab": {}
      },
      "source": [
        "datagen = ImageDataGenerator(\n",
        "    featurewise_center=False,\n",
        "    samplewise_center=False,\n",
        "    featurewise_std_normalization=False,\n",
        "    samplewise_std_normalization=False,\n",
        "    zca_whitening=False,\n",
        "    rotation_range=15,\n",
        "    width_shift_range=0.1,\n",
        "    height_shift_range=0.1,\n",
        "    horizontal_flip=True,\n",
        "    vertical_flip=False\n",
        "    )\n",
        "datagen.fit(x_train)\n",
        "batchsize = 256\n",
        "dgen=datagen.flow(x_train, y_train, batch_size=batchsize)\n"
      ],
      "execution_count": 0,
      "outputs": []
    },
    {
      "cell_type": "code",
      "metadata": {
        "id": "Bo3uENoeitdH",
        "colab_type": "code",
        "outputId": "bb751d59-292c-4a09-d236-92486107b906",
        "colab": {
          "base_uri": "https://localhost:8080/",
          "height": 149
        }
      },
      "source": [
        "K.clear_session()\n",
        "model = createModel()"
      ],
      "execution_count": 9,
      "outputs": [
        {
          "output_type": "stream",
          "text": [
            "WARNING:tensorflow:From /usr/local/lib/python3.6/dist-packages/tensorflow/python/framework/op_def_library.py:263: colocate_with (from tensorflow.python.framework.ops) is deprecated and will be removed in a future version.\n",
            "Instructions for updating:\n",
            "Colocations handled automatically by placer.\n",
            "WARNING:tensorflow:From /usr/local/lib/python3.6/dist-packages/keras/backend/tensorflow_backend.py:3445: calling dropout (from tensorflow.python.ops.nn_ops) with keep_prob is deprecated and will be removed in a future version.\n",
            "Instructions for updating:\n",
            "Please use `rate` instead of `keep_prob`. Rate should be set to `rate = 1 - keep_prob`.\n"
          ],
          "name": "stdout"
        }
      ]
    },
    {
      "cell_type": "code",
      "metadata": {
        "id": "OQ0ApJMBitdN",
        "colab_type": "code",
        "colab": {}
      },
      "source": [
        "opt_rms = keras.optimizers.rmsprop(lr=0.001,decay=1e-6)\n",
        "\n",
        "model.compile(opt_rms, loss='categorical_crossentropy', \n",
        "              metrics=['accuracy'])"
      ],
      "execution_count": 0,
      "outputs": []
    },
    {
      "cell_type": "code",
      "metadata": {
        "id": "8ROFANkXitdV",
        "colab_type": "code",
        "outputId": "7218a9c2-9f93-49e6-cd87-758b7831044d",
        "colab": {
          "base_uri": "https://localhost:8080/",
          "height": 1105
        }
      },
      "source": [
        "epoch = 20\n",
        "model.fit_generator(dgen,steps_per_epoch=781,epochs=3*epoch,\n",
        "                    verbose=0,validation_data=(x_test,y_test))\n",
        "\n",
        "opt_rms = keras.optimizers.rmsprop(lr=0.0005,decay=1e-6)\n",
        "model.compile(opt_rms, loss='categorical_crossentropy', \n",
        "              metrics=['accuracy'])\n",
        "model.fit_generator(dgen,steps_per_epoch=781,epochs=epoch,\n",
        "                    verbose=0,validation_data=(x_test,y_test))\n",
        "\n",
        "opt_rms = keras.optimizers.rmsprop(lr=0.0003,decay=1e-6)\n",
        "model.compile(opt_rms, loss='categorical_crossentropy', \n",
        "              metrics=['accuracy'])\n",
        "\n",
        "history=model.fit_generator(dgen,steps_per_epoch=781,epochs=50,\n",
        "                    verbose=1,validation_data=(x_test,y_test))\n",
        "\n",
        "\n",
        "\n",
        "\n"
      ],
      "execution_count": 0,
      "outputs": [
        {
          "output_type": "stream",
          "text": [
            "WARNING:tensorflow:From /usr/local/lib/python3.6/dist-packages/tensorflow/python/ops/math_ops.py:3066: to_int32 (from tensorflow.python.ops.math_ops) is deprecated and will be removed in a future version.\n",
            "Instructions for updating:\n",
            "Use tf.cast instead.\n",
            "Epoch 1/50\n",
            "781/781 [==============================] - 138s 177ms/step - loss: 0.5163 - acc: 0.8729 - val_loss: 0.5335 - val_acc: 0.8670\n",
            "Epoch 2/50\n",
            "781/781 [==============================] - 137s 175ms/step - loss: 0.4985 - acc: 0.8770 - val_loss: 0.5247 - val_acc: 0.8712\n",
            "Epoch 3/50\n",
            "781/781 [==============================] - 136s 174ms/step - loss: 0.4918 - acc: 0.8780 - val_loss: 0.5337 - val_acc: 0.8685\n",
            "Epoch 4/50\n",
            "781/781 [==============================] - 137s 175ms/step - loss: 0.4834 - acc: 0.8781 - val_loss: 0.4991 - val_acc: 0.8757\n",
            "Epoch 5/50\n",
            "781/781 [==============================] - 138s 176ms/step - loss: 0.4801 - acc: 0.8788 - val_loss: 0.5090 - val_acc: 0.8755\n",
            "Epoch 6/50\n",
            "781/781 [==============================] - 136s 174ms/step - loss: 0.4782 - acc: 0.8795 - val_loss: 0.4921 - val_acc: 0.8768\n",
            "Epoch 7/50\n",
            "781/781 [==============================] - 137s 176ms/step - loss: 0.4773 - acc: 0.8786 - val_loss: 0.5778 - val_acc: 0.8500\n",
            "Epoch 8/50\n",
            "781/781 [==============================] - 138s 176ms/step - loss: 0.4769 - acc: 0.8778 - val_loss: 0.5551 - val_acc: 0.8598\n",
            "Epoch 9/50\n",
            "781/781 [==============================] - 137s 176ms/step - loss: 0.4733 - acc: 0.8786 - val_loss: 0.5262 - val_acc: 0.8656\n",
            "Epoch 10/50\n",
            "781/781 [==============================] - 137s 176ms/step - loss: 0.4697 - acc: 0.8804 - val_loss: 0.5271 - val_acc: 0.8655\n",
            "Epoch 11/50\n",
            "781/781 [==============================] - 137s 175ms/step - loss: 0.4716 - acc: 0.8795 - val_loss: 0.5209 - val_acc: 0.8667\n",
            "Epoch 12/50\n",
            "781/781 [==============================] - 138s 176ms/step - loss: 0.4721 - acc: 0.8790 - val_loss: 0.5058 - val_acc: 0.8727\n",
            "Epoch 13/50\n",
            "781/781 [==============================] - 137s 175ms/step - loss: 0.4712 - acc: 0.8786 - val_loss: 0.4761 - val_acc: 0.8811\n",
            "Epoch 14/50\n",
            "781/781 [==============================] - 137s 176ms/step - loss: 0.4721 - acc: 0.8785 - val_loss: 0.5529 - val_acc: 0.8586\n",
            "Epoch 15/50\n",
            "781/781 [==============================] - 137s 175ms/step - loss: 0.4674 - acc: 0.8795 - val_loss: 0.4832 - val_acc: 0.8780\n",
            "Epoch 16/50\n",
            "781/781 [==============================] - 137s 176ms/step - loss: 0.4682 - acc: 0.8794 - val_loss: 0.4741 - val_acc: 0.8830\n",
            "Epoch 17/50\n",
            "781/781 [==============================] - 138s 177ms/step - loss: 0.4653 - acc: 0.8804 - val_loss: 0.5676 - val_acc: 0.8514\n",
            "Epoch 18/50\n",
            "781/781 [==============================] - 138s 177ms/step - loss: 0.4667 - acc: 0.8798 - val_loss: 0.4666 - val_acc: 0.8814\n",
            "Epoch 19/50\n",
            "781/781 [==============================] - 134s 172ms/step - loss: 0.4671 - acc: 0.8800 - val_loss: 0.4992 - val_acc: 0.8726\n",
            "Epoch 20/50\n",
            "781/781 [==============================] - 135s 172ms/step - loss: 0.4663 - acc: 0.8800 - val_loss: 0.4752 - val_acc: 0.8812\n",
            "Epoch 21/50\n",
            "781/781 [==============================] - 133s 171ms/step - loss: 0.4669 - acc: 0.8793 - val_loss: 0.5018 - val_acc: 0.8737\n",
            "Epoch 22/50\n",
            "781/781 [==============================] - 134s 171ms/step - loss: 0.4666 - acc: 0.8791 - val_loss: 0.4535 - val_acc: 0.8890\n",
            "Epoch 23/50\n",
            "781/781 [==============================] - 132s 169ms/step - loss: 0.4650 - acc: 0.8798 - val_loss: 0.5093 - val_acc: 0.8720\n",
            "Epoch 24/50\n",
            "781/781 [==============================] - 134s 171ms/step - loss: 0.4643 - acc: 0.8802 - val_loss: 0.5097 - val_acc: 0.8704\n",
            "Epoch 25/50\n",
            "781/781 [==============================] - 132s 169ms/step - loss: 0.4665 - acc: 0.8793 - val_loss: 0.4895 - val_acc: 0.8749\n",
            "Epoch 26/50\n",
            "781/781 [==============================] - 134s 171ms/step - loss: 0.4647 - acc: 0.8794 - val_loss: 0.5084 - val_acc: 0.8693\n",
            "Epoch 27/50\n",
            "115/781 [===>..........................] - ETA: 1:51 - loss: 0.4659 - acc: 0.8801"
          ],
          "name": "stdout"
        }
      ]
    },
    {
      "cell_type": "markdown",
      "metadata": {
        "id": "I3b-udTCukOz",
        "colab_type": "text"
      },
      "source": [
        ""
      ]
    },
    {
      "cell_type": "code",
      "metadata": {
        "id": "dMTs3teeitda",
        "colab_type": "code",
        "colab": {}
      },
      "source": [
        "# Loss Curves\n",
        "plt.figure(figsize=[8,6])\n",
        "plt.plot(history.history['loss'],'black',linewidth=3.0)\n",
        "plt.plot(history.history['val_loss'],'black',ls = '--', linewidth=3.0)\n",
        "plt.legend(['Training loss', 'Validation Loss'],fontsize=18)\n",
        "plt.xlabel('Epochs ',fontsize=16)\n",
        "plt.ylabel('Loss',fontsize=16)\n",
        "#plt.title('Loss Curves',fontsize=16)"
      ],
      "execution_count": 0,
      "outputs": []
    },
    {
      "cell_type": "code",
      "metadata": {
        "id": "GFNVgmDoitde",
        "colab_type": "code",
        "colab": {}
      },
      "source": [
        "plt.figure(figsize=[8,6])\n",
        "plt.plot(history.history['acc'],'black',linewidth=3.0)\n",
        "plt.plot(history.history['val_acc'],'black',ls = '--',linewidth=3.0)\n",
        "plt.legend(['Training Accuracy', 'Validation Accuracy'],fontsize=18, \n",
        "           loc = 'lower right')\n",
        "plt.xlabel('Epochs ',fontsize=16)\n",
        "plt.ylabel('Accuracy',fontsize=16)\n",
        "#plt.title('Accuracy Curves',fontsize=16)"
      ],
      "execution_count": 0,
      "outputs": []
    },
    {
      "cell_type": "code",
      "metadata": {
        "id": "8UhXsenU-vif",
        "colab_type": "code",
        "colab": {}
      },
      "source": [
        ""
      ],
      "execution_count": 0,
      "outputs": []
    }
  ]
}